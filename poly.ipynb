{
 "cells": [
  {
   "cell_type": "code",
   "execution_count": 1,
   "metadata": {},
   "outputs": [],
   "source": [
    "from random import seed\n",
    "from random import randint\n",
    "from random import random\n",
    "# seed random number generator\n",
    "import math\n",
    "seed(2020)"
   ]
  },
  {
   "cell_type": "code",
   "execution_count": 10,
   "metadata": {},
   "outputs": [],
   "source": [
    "class Poly:\n",
    "    def __init__(self, ls, isPrime = None):\n",
    "        self.cfs = ls                 #list of coefficients, starting with degree 0.\n",
    "        self.isPr = isPrime           #bool that tells you if the Polynomial is prime\n",
    "    \n",
    "    #Scaffolded prime checker, by trying random roots and printing out what's going on.\n",
    "    def isPrimeScaf(self):       \n",
    "        deg = len(self.cfs) \n",
    "        outp = 9999\n",
    "        tries = set()                 #list of roots already tried.\n",
    "        \n",
    "        #Keep looking for roots until a root is found, or all possibilities are exhausted.\n",
    "        while outp != 0:\n",
    "            #checks if all possible roots were exhausted.\n",
    "            if len(tries) == 19:      \n",
    "                print(\"Prime\")\n",
    "                return     \n",
    "            \n",
    "            outp = 9999               #reset outp and try another root.\n",
    "            gues = randint(-9, 9)     #root guesses            \n",
    "            \n",
    "            #avoids redundant root checking.\n",
    "            if gues in tries:                     \n",
    "                continue\n",
    "            \n",
    "            print(\"Guess: \" + str(gues))\n",
    "            \n",
    "            #calculates result of substituting the guess into self polynomial.\n",
    "            outp = 0\n",
    "            for i in range(0, deg):\n",
    "                outp += self.cfs[i] * (gues ** i) \n",
    "                \n",
    "            \n",
    "            print(outp)\n",
    "            tries.add(gues)           #add the root just tried.          \n",
    "        \n",
    "        print(\"Not prime\")\n",
    "        return\n",
    "    \n",
    "    #Unscaffolded prime checker.\n",
    "    def isPrime(self):       \n",
    "        deg = len(self.cfs) \n",
    "        outp = 9999\n",
    "        tries = set()                 #list of roots already tried.\n",
    "        \n",
    "        #Keep looking for roots until a root is found, or all possibilities are exhausted.\n",
    "        while outp != 0:\n",
    "            #checks if all possible roots were exhausted.\n",
    "            if len(tries) == 19:      \n",
    "                print(\"Prime\")\n",
    "                return     \n",
    "            \n",
    "            outp = 9999               #reset outp and try another root.\n",
    "            gues = randint(-9, 9)     #root guesses            \n",
    "            \n",
    "            #avoids redundant root checking.\n",
    "            if gues in tries:                     \n",
    "                continue\n",
    "\n",
    "            #calculates result of substituting the guess into self polynomial.\n",
    "            outp = 0\n",
    "            for i in range(0, deg):\n",
    "                outp += self.cfs[i] * (gues ** i) \n",
    "    \n",
    "            tries.add(gues)           #add the root just tried.          \n",
    "        \n",
    "        print(\"Not prime\")\n",
    "        return\n",
    "            \n",
    "            \n",
    "            \n",
    "            "
   ]
  },
  {
   "cell_type": "code",
   "execution_count": 11,
   "metadata": {},
   "outputs": [
    {
     "name": "stdout",
     "output_type": "stream",
     "text": [
      "Not prime\n"
     ]
    }
   ],
   "source": [
    "#testing \n",
    "p1 = Poly([1, -2, 1])\n",
    "p1.isPrime()"
   ]
  },
  {
   "cell_type": "code",
   "execution_count": 12,
   "metadata": {},
   "outputs": [
    {
     "name": "stdout",
     "output_type": "stream",
     "text": [
      "Prime\n"
     ]
    }
   ],
   "source": [
    "#testing \n",
    "p2 = Poly([1, 0, 1])\n",
    "p2.isPrime()"
   ]
  },
  {
   "cell_type": "code",
   "execution_count": 7,
   "metadata": {},
   "outputs": [
    {
     "name": "stdout",
     "output_type": "stream",
     "text": [
      "Guess: 5\n",
      "16\n",
      "Guess: 7\n",
      "36\n",
      "Guess: -9\n",
      "100\n",
      "Guess: 3\n",
      "4\n",
      "Guess: 8\n",
      "49\n",
      "Guess: -4\n",
      "25\n",
      "Guess: -2\n",
      "9\n",
      "Guess: 1\n",
      "0\n",
      "Not prime\n"
     ]
    }
   ],
   "source": [
    "#testing \n",
    "p1 = Poly([1, -2, 1])\n",
    "p1.isPrimeScaf()"
   ]
  },
  {
   "cell_type": "code",
   "execution_count": 8,
   "metadata": {},
   "outputs": [
    {
     "name": "stdout",
     "output_type": "stream",
     "text": [
      "Guess: 5\n",
      "26\n",
      "Guess: -5\n",
      "26\n",
      "Guess: 7\n",
      "50\n",
      "Guess: 2\n",
      "5\n",
      "Guess: 8\n",
      "65\n",
      "Guess: 3\n",
      "10\n",
      "Guess: -3\n",
      "10\n",
      "Guess: 9\n",
      "82\n",
      "Guess: 1\n",
      "2\n",
      "Guess: -1\n",
      "2\n",
      "Guess: -8\n",
      "65\n",
      "Guess: 4\n",
      "17\n",
      "Guess: 0\n",
      "1\n",
      "Guess: 6\n",
      "37\n",
      "Guess: -6\n",
      "37\n",
      "Guess: -2\n",
      "5\n",
      "Guess: -4\n",
      "17\n",
      "Guess: -9\n",
      "82\n",
      "Guess: -7\n",
      "50\n",
      "Prime\n"
     ]
    }
   ],
   "source": [
    "#testing \n",
    "p2 = Poly([1, 0, 1])\n",
    "p2.isPrimeScaf()"
   ]
  },
  {
   "cell_type": "code",
   "execution_count": null,
   "metadata": {},
   "outputs": [],
   "source": []
  }
 ],
 "metadata": {
  "kernelspec": {
   "display_name": "Python 3",
   "language": "python",
   "name": "python3"
  },
  "language_info": {
   "codemirror_mode": {
    "name": "ipython",
    "version": 3
   },
   "file_extension": ".py",
   "mimetype": "text/x-python",
   "name": "python",
   "nbconvert_exporter": "python",
   "pygments_lexer": "ipython3",
   "version": "3.7.3"
  }
 },
 "nbformat": 4,
 "nbformat_minor": 2
}
